{
 "cells": [
  {
   "cell_type": "code",
   "execution_count": 10,
   "metadata": {},
   "outputs": [],
   "source": [
    "# Import necessary libraries\n",
    "import os\n",
    "import pandas as pd\n",
    "import warnings\n",
    "\n",
    "# Ignore specific warnings\n",
    "warnings.filterwarnings(\"ignore\", message=\"numpy.dtype size changed\")\n",
    "warnings.filterwarnings(\"ignore\", message=\"numpy.ufunc size changed\")\n"
   ]
  },
  {
   "cell_type": "code",
   "execution_count": 11,
   "metadata": {},
   "outputs": [
    {
     "name": "stdout",
     "output_type": "stream",
     "text": [
      "  ﻿IDS_DATE  Day  Rooms  OOO  StayOver  Arrivals  DueOut  Available  \\\n",
      "0   10/1/22  Sat     78    4        67        40      40          7   \n",
      "1   10/2/22  Sun     78    3        29        23      61         46   \n",
      "2   10/3/22  Mon     78    3        25        22      26         50   \n",
      "3   10/4/22  Tue     78    2        33        23      15         43   \n",
      "4   10/5/22  Wed     78    2        40        29      22         36   \n",
      "\n",
      "  Group Block Group Picked Up TransNGTD TransGTD  Occupied OccPercent  \\\n",
      "0                                                       67    90.54 %   \n",
      "1                                                       29    38.67 %   \n",
      "2                                                       25    34.67 %   \n",
      "3                                                       33    43.42 %   \n",
      "4                                                       40    52.63 %   \n",
      "\n",
      "    RoomRev RevPAR     ADR      Ppl  \n",
      "0  7,163.51  96.80  106.92  117 / 5  \n",
      "1  2,669.72  35.60   92.06   39 / 4  \n",
      "2  2,165.42  28.87   83.29   32 / 0  \n",
      "3  2,981.50  39.23   90.35   43 / 0  \n",
      "4  3,608.22  47.48   90.21   51 / 1  \n"
     ]
    }
   ],
   "source": [
    "# Define the path to your data folder\n",
    "data_folder = 'data'  # Make sure to adjust the path to where your CSVs are stored\n",
    "csv_files = [os.path.join(data_folder, file) for file in os.listdir(data_folder) if file.endswith('.csv')]\n",
    "\n",
    "# Load and concatenate all CSV files into one DataFrame\n",
    "data_frames = [pd.read_csv(file) for file in csv_files if os.path.getsize(file) > 0]\n",
    "hotel_data = pd.concat(data_frames, ignore_index=True)\n",
    "\n",
    "# Display the first few rows to verify the data has been loaded correctly\n",
    "print(hotel_data.head())\n"
   ]
  },
  {
   "cell_type": "code",
   "execution_count": 12,
   "metadata": {},
   "outputs": [
    {
     "name": "stdout",
     "output_type": "stream",
     "text": [
      "      Date  Arrivals  Occupied OccPercent   RoomRev RevPAR     ADR\n",
      "0  10/1/22        40        67    90.54 %  7,163.51  96.80  106.92\n",
      "1  10/2/22        23        29    38.67 %  2,669.72  35.60   92.06\n",
      "2  10/3/22        22        25    34.67 %  2,165.42  28.87   83.29\n",
      "3  10/4/22        23        33    43.42 %  2,981.50  39.23   90.35\n",
      "4  10/5/22        29        40    52.63 %  3,608.22  47.48   90.21\n"
     ]
    }
   ],
   "source": [
    "# Clean up and rename columns (particularly 'IDS_DATE' to 'Date')\n",
    "hotel_data.columns = hotel_data.columns.str.strip().str.replace('﻿', '')  # Remove any unwanted characters\n",
    "hotel_data.rename(columns={'IDS_DATE': 'Date'}, inplace=True)\n",
    "\n",
    "# Select the necessary columns\n",
    "required_columns = ['Date', 'Arrivals', 'Occupied', 'OccPercent', 'RoomRev', 'RevPAR', 'ADR']\n",
    "hotel_data = hotel_data[required_columns]\n",
    "\n",
    "# Display the first few rows after renaming\n",
    "print(hotel_data.head())\n"
   ]
  },
  {
   "cell_type": "code",
   "execution_count": 13,
   "metadata": {},
   "outputs": [
    {
     "name": "stdout",
     "output_type": "stream",
     "text": [
      "        Date  Arrivals  Occupied  OccPercent  RoomRev  RevPAR     ADR\n",
      "0 2022-10-01        40        67       90.54  7163.51   96.80  106.92\n",
      "1 2022-10-02        23        29       38.67  2669.72   35.60   92.06\n",
      "2 2022-10-03        22        25       34.67  2165.42   28.87   83.29\n",
      "3 2022-10-04        23        33       43.42  2981.50   39.23   90.35\n",
      "4 2022-10-05        29        40       52.63  3608.22   47.48   90.21\n"
     ]
    }
   ],
   "source": [
    "import re\n",
    "\n",
    "# Convert 'Date' to datetime format\n",
    "hotel_data['Date'] = pd.to_datetime(hotel_data['Date'], format='%m/%d/%y', errors='coerce')\n",
    "\n",
    "# Remove percentage signs and convert 'OccPercent' to a numeric type\n",
    "hotel_data['OccPercent'] = hotel_data['OccPercent'].astype(str).str.replace('%', '').astype(float)\n",
    "\n",
    "# Function to handle parentheses and commas in 'RoomRev', 'RevPAR', 'ADR'\n",
    "def convert_to_float(value):\n",
    "    # Handle negative values in parentheses\n",
    "    if '(' in value and ')' in value:\n",
    "        value = '-' + value.replace('(', '').replace(')', '')\n",
    "    return float(value.replace(',', ''))\n",
    "\n",
    "# Apply the function to relevant columns\n",
    "hotel_data['RoomRev'] = hotel_data['RoomRev'].astype(str).apply(convert_to_float)\n",
    "hotel_data['RevPAR'] = hotel_data['RevPAR'].astype(str).apply(convert_to_float)\n",
    "hotel_data['ADR'] = hotel_data['ADR'].astype(str).apply(convert_to_float)\n",
    "\n",
    "# Display cleaned data\n",
    "print(hotel_data.head())\n"
   ]
  },
  {
   "cell_type": "code",
   "execution_count": 14,
   "metadata": {},
   "outputs": [
    {
     "name": "stdout",
     "output_type": "stream",
     "text": [
      "Date          0\n",
      "Arrivals      0\n",
      "Occupied      0\n",
      "OccPercent    0\n",
      "RoomRev       0\n",
      "RevPAR        0\n",
      "ADR           0\n",
      "dtype: int64\n"
     ]
    }
   ],
   "source": [
    "# Check for missing values in the data\n",
    "missing_values = hotel_data.isna().sum()\n",
    "print(missing_values)\n"
   ]
  },
  {
   "cell_type": "code",
   "execution_count": 15,
   "metadata": {},
   "outputs": [
    {
     "name": "stdout",
     "output_type": "stream",
     "text": [
      "Cleaned data saved to 'cleaned_data.csv'.\n"
     ]
    }
   ],
   "source": [
    "# Save the cleaned data for later use in other scripts\n",
    "hotel_data.to_csv('cleaned_data.csv', index=False)\n",
    "print(\"Cleaned data saved to 'cleaned_data.csv'.\")\n"
   ]
  },
  {
   "cell_type": "code",
   "execution_count": null,
   "metadata": {},
   "outputs": [],
   "source": []
  }
 ],
 "metadata": {
  "kernelspec": {
   "display_name": ".venv",
   "language": "python",
   "name": "python3"
  },
  "language_info": {
   "codemirror_mode": {
    "name": "ipython",
    "version": 3
   },
   "file_extension": ".py",
   "mimetype": "text/x-python",
   "name": "python",
   "nbconvert_exporter": "python",
   "pygments_lexer": "ipython3",
   "version": "3.11.7"
  }
 },
 "nbformat": 4,
 "nbformat_minor": 2
}
