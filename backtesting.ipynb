{
 "cells": [
  {
   "cell_type": "code",
   "execution_count": 4,
   "metadata": {},
   "outputs": [
    {
     "name": "stdout",
     "output_type": "stream",
     "text": [
      "            Arrivals  Occupied  OccPercent  RoomRev  RevPAR     ADR\n",
      "Date                                                               \n",
      "2022-10-01        40        67       90.54  7163.51   96.80  106.92\n",
      "2022-10-02        23        29       38.67  2669.72   35.60   92.06\n",
      "2022-10-03        22        25       34.67  2165.42   28.87   83.29\n",
      "2022-10-04        23        33       43.42  2981.50   39.23   90.35\n",
      "2022-10-05        29        40       52.63  3608.22   47.48   90.21\n"
     ]
    }
   ],
   "source": [
    "# Import necessary libraries\n",
    "import pandas as pd\n",
    "\n",
    "# Load the cleaned hotel data\n",
    "hotel_data = pd.read_csv(\"cleaned_data.csv\", parse_dates=[\"Date\"], index_col=\"Date\")\n",
    "\n",
    "# Display the first few rows to verify\n",
    "print(hotel_data.head())\n"
   ]
  },
  {
   "cell_type": "code",
   "execution_count": 5,
   "metadata": {},
   "outputs": [
    {
     "name": "stdout",
     "output_type": "stream",
     "text": [
      "            Arrivals  Occupied  OccPercent  RoomRev  RevPAR     ADR\n",
      "Date                                                               \n",
      "2022-10-01        40        67       90.54  7163.51   96.80  106.92\n",
      "2022-10-02        23        29       38.67  2669.72   35.60   92.06\n",
      "2022-10-03        22        25       34.67  2165.42   28.87   83.29\n",
      "2022-10-04        23        33       43.42  2981.50   39.23   90.35\n",
      "2022-10-05        29        40       52.63  3608.22   47.48   90.21\n"
     ]
    }
   ],
   "source": [
    "# Define the backtesting period (can be adjusted)\n",
    "start_date = '2022-01-01'\n",
    "end_date = '2023-12-31'\n",
    "\n",
    "# Filter the data to this period\n",
    "hotel_data_filtered = hotel_data.loc[start_date:end_date]\n",
    "\n",
    "# Display the filtered data\n",
    "print(hotel_data_filtered.head())\n"
   ]
  },
  {
   "cell_type": "code",
   "execution_count": 6,
   "metadata": {},
   "outputs": [
    {
     "name": "stdout",
     "output_type": "stream",
     "text": [
      "            Arrivals  Occupied  OccPercent  RoomRev  RevPAR     ADR  \\\n",
      "Date                                                                  \n",
      "2022-10-01        40        67       90.54  7163.51   96.80  106.92   \n",
      "2022-10-02        23        29       38.67  2669.72   35.60   92.06   \n",
      "2022-10-03        22        25       34.67  2165.42   28.87   83.29   \n",
      "2022-10-04        23        33       43.42  2981.50   39.23   90.35   \n",
      "2022-10-05        29        40       52.63  3608.22   47.48   90.21   \n",
      "\n",
      "            Temperature  Humidity  Wind Speed  \n",
      "Date                                           \n",
      "2022-10-01        67.73      60.0         3.0  \n",
      "2022-10-02        67.73      60.0         3.0  \n",
      "2022-10-03        67.73      60.0         3.0  \n",
      "2022-10-04        67.73      60.0         3.0  \n",
      "2022-10-05        67.73      60.0         3.0  \n"
     ]
    }
   ],
   "source": [
    "# Define a function to convert temperature to Fahrenheit\n",
    "def kelvin_to_fahrenheit(kelvin):\n",
    "    return (kelvin - 273.15) * 9/5 + 32\n",
    "\n",
    "# Placeholder for historical weather data (you will need to collect the data via API or manually)\n",
    "# Let's assume you've fetched weather data in a similar format:\n",
    "# For now, we’ll use dummy data until we fetch real historical data via API\n",
    "weather_data = pd.DataFrame({\n",
    "    'Date': pd.date_range(start=start_date, periods=365, freq='D'),\n",
    "    'Temperature': [kelvin_to_fahrenheit(293)]*365,  # Placeholder value\n",
    "    'Humidity': [60]*365,  # Placeholder value\n",
    "    'Wind Speed': [3.0]*365  # Placeholder value\n",
    "})\n",
    "\n",
    "# Set the Date as the index\n",
    "weather_data.set_index('Date', inplace=True)\n",
    "\n",
    "# Join the weather data with the hotel data\n",
    "backtest_data = hotel_data_filtered.join(weather_data)\n",
    "\n",
    "# Display the combined data\n",
    "print(backtest_data.head())\n"
   ]
  },
  {
   "cell_type": "code",
   "execution_count": null,
   "metadata": {},
   "outputs": [],
   "source": []
  }
 ],
 "metadata": {
  "kernelspec": {
   "display_name": ".venv",
   "language": "python",
   "name": "python3"
  },
  "language_info": {
   "codemirror_mode": {
    "name": "ipython",
    "version": 3
   },
   "file_extension": ".py",
   "mimetype": "text/x-python",
   "name": "python",
   "nbconvert_exporter": "python",
   "pygments_lexer": "ipython3",
   "version": "3.11.7"
  }
 },
 "nbformat": 4,
 "nbformat_minor": 2
}
